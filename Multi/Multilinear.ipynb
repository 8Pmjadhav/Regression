{
 "cells": [
  {
   "cell_type": "code",
   "execution_count": 6,
   "id": "5e9e3f36-12f5-4bec-b0b1-5293b1af7cee",
   "metadata": {
    "editable": true,
    "execution": {
     "iopub.execute_input": "2023-07-15T10:22:53.013668Z",
     "iopub.status.busy": "2023-07-15T10:22:53.013126Z",
     "iopub.status.idle": "2023-07-15T10:22:53.026941Z",
     "shell.execute_reply": "2023-07-15T10:22:53.025914Z",
     "shell.execute_reply.started": "2023-07-15T10:22:53.013627Z"
    },
    "slideshow": {
     "slide_type": ""
    },
    "tags": []
   },
   "outputs": [],
   "source": [
    "import pandas as pd\n",
    "import numpy as np\n",
    "from matplotlib import pyplot as plt\n",
    "\n",
    "home = pd.read_csv('house.txt',names=[\"size\",\"bedroom\",\"price\"]) \n",
    "\n",
    "home['size'] = home['size']/1000\n",
    "home['price'] = home['price']/100000\n",
    "\n",
    "ip = ['size','bedroom']\n",
    "\n",
    "x = home[ip].values\n",
    "y = home['price'].values\n",
    "\n"
   ]
  },
  {
   "cell_type": "code",
   "execution_count": 7,
   "id": "9431c6f9-1e8a-4144-bac2-6b70e195eb8c",
   "metadata": {
    "execution": {
     "iopub.execute_input": "2023-07-15T10:22:53.029589Z",
     "iopub.status.busy": "2023-07-15T10:22:53.028786Z",
     "iopub.status.idle": "2023-07-15T10:22:53.114805Z",
     "shell.execute_reply": "2023-07-15T10:22:53.113811Z",
     "shell.execute_reply.started": "2023-07-15T10:22:53.029548Z"
    }
   },
   "outputs": [],
   "source": [
    "def cost_function(x,y,w,b):\n",
    "    c = np.sum(np.square(x@w.T + b -y))/(2*len(x))\n",
    "    return c\n",
    "#print(cost_function(x,y,w,b))"
   ]
  },
  {
   "cell_type": "code",
   "execution_count": 8,
   "id": "14d665be-91d2-4e5f-b85d-46b4bb142b34",
   "metadata": {
    "execution": {
     "iopub.execute_input": "2023-07-15T10:22:53.116148Z",
     "iopub.status.busy": "2023-07-15T10:22:53.115784Z",
     "iopub.status.idle": "2023-07-15T10:22:53.187980Z",
     "shell.execute_reply": "2023-07-15T10:22:53.185538Z",
     "shell.execute_reply.started": "2023-07-15T10:22:53.116116Z"
    },
    "scrolled": true
   },
   "outputs": [],
   "source": [
    "# this is term of Derivative/m\n",
    "def gradient_function(x,y,w,b):\n",
    "    m = x.shape[0]\n",
    "    err = x@w.T+b -y.T\n",
    "\n",
    "    dj_w = x.T@err\n",
    "    dj_b = np.sum(err)\n",
    "    \n",
    "    dj_w = dj_w/m\n",
    "    dj_b = dj_b/m\n",
    "        \n",
    "    return dj_w,dj_b\n",
    "#gradient_function(x,y,w,b)"
   ]
  },
  {
   "cell_type": "code",
   "execution_count": 9,
   "id": "2c76af77-3ae2-4e5a-b28e-568bb1b8bda9",
   "metadata": {
    "execution": {
     "iopub.execute_input": "2023-07-15T10:22:53.196869Z",
     "iopub.status.busy": "2023-07-15T10:22:53.195955Z",
     "iopub.status.idle": "2023-07-15T10:22:53.238517Z",
     "shell.execute_reply": "2023-07-15T10:22:53.234908Z",
     "shell.execute_reply.started": "2023-07-15T10:22:53.196788Z"
    }
   },
   "outputs": [],
   "source": [
    "def gradient_descent(x,y,w,b,alpha,iter):\n",
    "    J_history = list()\n",
    "    \n",
    "    for i in range(0,iter):\n",
    "        \n",
    "        dj_w,dj_b = gradient_function(x,y,w,b)\n",
    "\n",
    "        w = w - alpha * dj_w\n",
    "        b = b - alpha * dj_b\n",
    "        \n",
    "        J_history.append( cost_function(x, y, w, b))\n",
    "       \n",
    "    J_history = np.array(J_history)\n",
    "    return w,b, J_history \n"
   ]
  },
  {
   "cell_type": "code",
   "execution_count": 10,
   "id": "f70f55fa-b4ca-45b2-a968-065e1a517b22",
   "metadata": {
    "execution": {
     "iopub.execute_input": "2023-07-15T10:22:53.249006Z",
     "iopub.status.busy": "2023-07-15T10:22:53.243810Z",
     "iopub.status.idle": "2023-07-15T10:22:53.355816Z",
     "shell.execute_reply": "2023-07-15T10:22:53.355170Z",
     "shell.execute_reply.started": "2023-07-15T10:22:53.248854Z"
    }
   },
   "outputs": [
    {
     "name": "stdout",
     "output_type": "stream",
     "text": [
      "b,w found by gradient descent: 0.22,[0.89035966 0.44061435] cost = 0.273376754243111\n",
      "0) prediction: 341153.5876808202, target value: 399900.0\n",
      "1) prediction: 296279.4610357747, target value: 329900.0\n",
      "2) prediction: 367508.2334882279, target value: 369000.0\n",
      "3) prediction: 235835.40793706948, target value: 231999.99999999997\n",
      "4) prediction: 464991.24826220877, target value: 539900.0\n",
      "5) prediction: 374619.74321315874, target value: 299900.0\n",
      "6) prediction: 290403.0873084473, target value: 314900.0\n",
      "7) prediction: 280876.23899293167, target value: 198999.0\n",
      "8) prediction: 276691.54861135, target value: 212000.0\n",
      "9) prediction: 286841.64868582465, target value: 242499.99999999997\n",
      "10) prediction: 370613.12476270826, target value: 239998.99999999997\n",
      "11) prediction: 331893.84726200125, target value: 347000.0\n",
      "12) prediction: 322099.8910497889, target value: 329999.0\n",
      "13) prediction: 640647.840802757, target value: 699900.0\n",
      "14) prediction: 266719.5204680066, target value: 259900.00000000003\n",
      "15) prediction: 402666.0723663122, target value: 449899.99999999994\n",
      "16) prediction: 227287.95524277506, target value: 299900.0\n",
      "17) prediction: 263870.3695699085, target value: 199900.0\n",
      "18) prediction: 430178.18572607223, target value: 499998.0\n",
      "19) prediction: 467751.36319474137, target value: 599000.0\n",
      "20) prediction: 311148.4672852243, target value: 252900.0\n",
      "21) prediction: 277860.3836840168, target value: 254999.99999999997\n",
      "22) prediction: 296635.604898037, target value: 242899.99999999997\n",
      "23) prediction: 372571.91600515076, target value: 259900.00000000003\n",
      "24) prediction: 500171.8221809219, target value: 573900.0\n",
      "25) prediction: 251761.47825299145, target value: 249900.0\n",
      "26) prediction: 283636.3539254642, target value: 464499.99999999994\n",
      "27) prediction: 378726.7651494892, target value: 469000.00000000006\n",
      "28) prediction: 349701.0403751146, target value: 475000.0\n",
      "29) prediction: 388609.7573272671, target value: 299900.0\n",
      "30) prediction: 273497.6213713041, target value: 349900.0\n",
      "31) prediction: 154735.01082715287, target value: 169900.0\n",
      "32) prediction: 379516.7213192649, target value: 314900.0\n",
      "33) prediction: 433127.7401100504, target value: 579900.0\n",
      "34) prediction: 359127.48520475015, target value: 285900.0\n",
      "35) prediction: 281766.59864858736, target value: 249900.0\n",
      "36) prediction: 264137.47746660514, target value: 229900.0\n",
      "37) prediction: 387708.030151297, target value: 345000.0\n",
      "38) prediction: 573169.946424372, target value: 549000.0\n",
      "39) prediction: 390379.109118264, target value: 287000.0\n",
      "40) prediction: 257916.32739732994, target value: 368500.0\n",
      "41) prediction: 353084.4070666061, target value: 329900.0\n",
      "42) prediction: 426438.67517231853, target value: 314000.0\n",
      "43) prediction: 260665.07480954807, target value: 299000.0\n",
      "44) prediction: 185619.12335809, target value: 179900.0\n",
      "45) prediction: 362777.95979293843, target value: 299900.0\n",
      "46) prediction: 260932.18270624478, target value: 239500.0\n"
     ]
    }
   ],
   "source": [
    "# initialize parameters\n",
    "initial_w = np.zeros(2)\n",
    "initial_b = 0.\n",
    "\n",
    "iterations = 2000\n",
    "alpha = 0.001\n",
    "# run gradient descent \n",
    "\n",
    "w_final, b_final, J_hist = gradient_descent(x, y, initial_w, initial_b, alpha, iterations)\n",
    "print(f\"b,w found by gradient descent: {b_final:0.2f},{w_final} cost = {J_hist[-1]}\")\n",
    "m,_ = x.shape\n",
    "for i in range(m):\n",
    "    print(f\"{i}) prediction: {(np.dot(x[i], w_final)+b_final)*100000}, target value: {y[i]*100000}\")\n",
    "w_final = np.reshape(w_final,(1,2))"
   ]
  },
  {
   "cell_type": "code",
   "execution_count": 11,
   "id": "21f6f4bc-ddc6-40f3-ba81-9c9f52bb6b76",
   "metadata": {
    "execution": {
     "iopub.execute_input": "2023-07-15T10:22:53.357003Z",
     "iopub.status.busy": "2023-07-15T10:22:53.356712Z",
     "iopub.status.idle": "2023-07-15T10:22:53.544556Z",
     "shell.execute_reply": "2023-07-15T10:22:53.543741Z",
     "shell.execute_reply.started": "2023-07-15T10:22:53.356976Z"
    }
   },
   "outputs": [
    {
     "data": {
      "image/png": "[encoded data removed]",
      "text/plain": [
       "<Figure size 640x480 with 1 Axes>"
      ]
     },
     "metadata": {},
     "output_type": "display_data"
    }
   ],
   "source": [
    "plt.plot(J_hist)\n",
    "plt.title('cost Vs Iterations')\n",
    "plt.xlabel('Iteration steps')\n",
    "plt.ylabel('Cost')\n",
    "plt.show()"
   ]
  },
  {
   "cell_type": "code",
   "execution_count": 12,
   "id": "0d993f29-fa2d-4b51-a035-e3f1376de444",
   "metadata": {
    "execution": {
     "iopub.execute_input": "2023-07-15T10:23:28.129931Z",
     "iopub.status.busy": "2023-07-15T10:23:28.128251Z",
     "iopub.status.idle": "2023-07-15T10:23:28.140525Z",
     "shell.execute_reply": "2023-07-15T10:23:28.139130Z",
     "shell.execute_reply.started": "2023-07-15T10:23:28.129862Z"
    }
   },
   "outputs": [
    {
     "name": "stdout",
     "output_type": "stream",
     "text": [
      "w ;  [[0.89035966 0.44061435]] b :  0.21637609826945398\n",
      "Predicted Values : \n",
      " [[342934.30699213]\n",
      " [296368.49700134]]\n"
     ]
    }
   ],
   "source": [
    "def predict_price(x,w,b):\n",
    "    x[:, 0] /= 1000.0    \n",
    "    y = (x@w.T + b)*100000\n",
    "    return y\n",
    "    \n",
    "new_x = np.array([[2124,3],[1601,3]], dtype=np.float64)   # features to predict\n",
    "print('w ; ',w_final,'b : ',b_final)\n",
    "\n",
    "yhat = predict_price(new_x,w_final,b_final)\n",
    "print(\"Predicted Values : \\n\",yhat)"
   ]
  },
  {
   "cell_type": "code",
   "execution_count": null,
   "id": "2016d6a4-beee-4e8b-ae3f-501b416d9117",
   "metadata": {},
   "outputs": [],
   "source": []
  }
 ],
 "metadata": {
  "kernelspec": {
   "display_name": "Python 3 (ipykernel)",
   "language": "python",
   "name": "python3"
  },
  "language_info": {
   "codemirror_mode": {
    "name": "ipython",
    "version": 3
   },
   "file_extension": ".py",
   "mimetype": "text/x-python",
   "name": "python",
   "nbconvert_exporter": "python",
   "pygments_lexer": "ipython3",
   "version": "3.10.6"
  }
 },
 "nbformat": 4,
 "nbformat_minor": 5
}
