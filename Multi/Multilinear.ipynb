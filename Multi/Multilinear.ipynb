{
 "cells": [
  {
   "cell_type": "code",
   "execution_count": 573,
   "id": "5e9e3f36-12f5-4bec-b0b1-5293b1af7cee",
   "metadata": {
    "editable": true,
    "execution": {
     "iopub.execute_input": "2023-07-15T10:22:53.013668Z",
     "iopub.status.busy": "2023-07-15T10:22:53.013126Z",
     "iopub.status.idle": "2023-07-15T10:22:53.026941Z",
     "shell.execute_reply": "2023-07-15T10:22:53.025914Z",
     "shell.execute_reply.started": "2023-07-15T10:22:53.013627Z"
    },
    "slideshow": {
     "slide_type": ""
    },
    "tags": []
   },
   "outputs": [],
   "source": [
    "import pandas as pd\n",
    "import numpy as np\n",
    "from matplotlib import pyplot as plt\n",
    "\n",
    "home = pd.read_csv('house.txt',names=[\"size\",\"bedroom\",\"price\"]) \n",
    "\n",
    "home['size'] = home['size']/1000\n",
    "home['price'] = home['price']/100000\n",
    "\n",
    "ip = ['size','bedroom']\n",
    "\n",
    "x = home[ip].values\n",
    "y = home['price'].values\n",
    "\n"
   ]
  },
  {
   "cell_type": "code",
   "execution_count": 574,
   "id": "9431c6f9-1e8a-4144-bac2-6b70e195eb8c",
   "metadata": {
    "execution": {
     "iopub.execute_input": "2023-07-15T10:22:53.029589Z",
     "iopub.status.busy": "2023-07-15T10:22:53.028786Z",
     "iopub.status.idle": "2023-07-15T10:22:53.114805Z",
     "shell.execute_reply": "2023-07-15T10:22:53.113811Z",
     "shell.execute_reply.started": "2023-07-15T10:22:53.029548Z"
    }
   },
   "outputs": [],
   "source": [
    "def cost_function(x,y,w,b):\n",
    "    c = np.sum(np.square(x@w.T + b -y))/(2*len(x))\n",
    "    return c\n",
    "#print(cost_function(x,y,w,b))"
   ]
  },
  {
   "cell_type": "code",
   "execution_count": 575,
   "id": "14d665be-91d2-4e5f-b85d-46b4bb142b34",
   "metadata": {
    "execution": {
     "iopub.execute_input": "2023-07-15T10:22:53.116148Z",
     "iopub.status.busy": "2023-07-15T10:22:53.115784Z",
     "iopub.status.idle": "2023-07-15T10:22:53.187980Z",
     "shell.execute_reply": "2023-07-15T10:22:53.185538Z",
     "shell.execute_reply.started": "2023-07-15T10:22:53.116116Z"
    },
    "scrolled": true
   },
   "outputs": [],
   "source": [
    "# this is term of Derivative/m\n",
    "def gradient_function(x,y,w,b):\n",
    "    err = x@w.T+b -y.T\n",
    "\n",
    "    dj_w = x.T@err\n",
    "    dj_b = np.sum(err)\n",
    "    \n",
    "    dj_w = dj_w/m\n",
    "    dj_b = dj_b/m\n",
    "        \n",
    "    return dj_w,dj_b\n",
    "#gradient_function(x,y,w,b)"
   ]
  },
  {
   "cell_type": "code",
   "execution_count": 576,
   "id": "2c76af77-3ae2-4e5a-b28e-568bb1b8bda9",
   "metadata": {
    "execution": {
     "iopub.execute_input": "2023-07-15T10:22:53.196869Z",
     "iopub.status.busy": "2023-07-15T10:22:53.195955Z",
     "iopub.status.idle": "2023-07-15T10:22:53.238517Z",
     "shell.execute_reply": "2023-07-15T10:22:53.234908Z",
     "shell.execute_reply.started": "2023-07-15T10:22:53.196788Z"
    }
   },
   "outputs": [],
   "source": [
    "def gradient_descent(x,y,w,b,alpha,iter):\n",
    "    J_history = list()\n",
    "    \n",
    "    for i in range(0,iter):\n",
    "        \n",
    "        dj_w,dj_b = gradient_function(x,y,w,b)\n",
    "\n",
    "        w = w - alpha * dj_w\n",
    "        b = b - alpha * dj_b\n",
    "        \n",
    "        J_history.append( cost_function(x, y, w, b))\n",
    "       \n",
    "    J_history = np.array(J_history)\n",
    "    return w,b, J_history \n"
   ]
  },
  {
   "cell_type": "code",
   "execution_count": 577,
   "id": "f70f55fa-b4ca-45b2-a968-065e1a517b22",
   "metadata": {
    "execution": {
     "iopub.execute_input": "2023-07-15T10:22:53.249006Z",
     "iopub.status.busy": "2023-07-15T10:22:53.243810Z",
     "iopub.status.idle": "2023-07-15T10:22:53.355816Z",
     "shell.execute_reply": "2023-07-15T10:22:53.355170Z",
     "shell.execute_reply.started": "2023-07-15T10:22:53.248854Z"
    }
   },
   "outputs": [
    {
     "name": "stdout",
     "output_type": "stream",
     "text": [
      "b,w found by gradient descent: 0.22,[0.88388636 0.44491446] cost = 0.2748295210044326\n",
      "0) prediction: 341042.3327065042, target value: 399900.0\n",
      "1) prediction: 296494.4602462465, target value: 329900.0\n",
      "2) prediction: 367205.3689133223, target value: 369000.0\n",
      "3) prediction: 235739.5052689917, target value: 231999.99999999997\n",
      "4) prediction: 464729.99639745645, target value: 539900.0\n",
      "5) prediction: 375015.53102610406, target value: 299900.0\n",
      "6) prediction: 290660.81028121273, target value: 314900.0\n",
      "7) prediction: 281203.22624699125, target value: 198999.0\n",
      "8) prediction: 277048.9603628006, target value: 212000.0\n",
      "9) prediction: 287125.2648478589, target value: 242499.99999999997\n",
      "10) prediction: 371038.042413581, target value: 239998.99999999997\n",
      "11) prediction: 331849.9145797844, target value: 347000.0\n",
      "12) prediction: 322127.1646380615, target value: 329999.0\n",
      "13) prediction: 639859.8461437064, target value: 699900.0\n",
      "14) prediction: 267149.43314941, target value: 259900.00000000003\n",
      "15) prediction: 402857.95131376514, target value: 449899.99999999994\n",
      "16) prediction: 227254.19622894257, target value: 299900.0\n",
      "17) prediction: 264320.99680272694, target value: 199900.0\n",
      "18) prediction: 430170.03978642315, target value: 499998.0\n",
      "19) prediction: 467470.0441083057, target value: 599000.0\n",
      "20) prediction: 311255.3624304985, target value: 252900.0\n",
      "21) prediction: 277458.9413825664, target value: 254999.99999999997\n",
      "22) prediction: 296848.0147895818, target value: 242899.99999999997\n",
      "23) prediction: 372982.5924019256, target value: 259900.00000000003\n",
      "24) prediction: 498904.43630575103, target value: 573900.0\n",
      "25) prediction: 252300.14232932407, target value: 249900.0\n",
      "26) prediction: 283943.2739578405, target value: 464499.99999999994\n",
      "27) prediction: 378342.3370283867, target value: 469000.00000000006\n",
      "28) prediction: 349527.64174655336, target value: 475000.0\n",
      "29) prediction: 388153.4756059435, target value: 299900.0\n",
      "30) prediction: 273127.898226708, target value: 349900.0\n",
      "31) prediction: 154478.38677828488, target value: 169900.0\n",
      "32) prediction: 379876.90599696554, target value: 314900.0\n",
      "33) prediction: 432347.79352286586, target value: 579900.0\n",
      "34) prediction: 359635.908391015, target value: 285900.0\n",
      "35) prediction: 282087.1126053297, target value: 249900.0\n",
      "36) prediction: 264586.16271022847, target value: 229900.0\n",
      "37) prediction: 388008.6604936792, target value: 345000.0\n",
      "38) prediction: 572122.1889355779, target value: 549000.0\n",
      "39) prediction: 390660.3195686945, target value: 287000.0\n",
      "40) prediction: 257659.88695578516, target value: 368500.0\n",
      "41) prediction: 352886.40990823944, target value: 329900.0\n",
      "42) prediction: 426457.71708140173, target value: 314000.0\n",
      "43) prediction: 261139.00591270856, target value: 299000.0\n",
      "44) prediction: 185888.3146587032, target value: 179900.0\n",
      "45) prediction: 363259.84246020264, target value: 299900.0\n",
      "46) prediction: 261404.17182021006, target value: 239500.0\n"
     ]
    }
   ],
   "source": [
    "# initialize parameters\n",
    "initial_w = np.zeros(2)\n",
    "initial_b = 0.\n",
    "\n",
    "iterations = 2000\n",
    "alpha = 0.001\n",
    "# run gradient descent \n",
    "\n",
    "w_final, b_final, J_hist = gradient_descent(x, y, initial_w, initial_b, alpha, iterations)\n",
    "print(f\"b,w found by gradient descent: {b_final:0.2f},{w_final} cost = {J_hist[-1]}\")\n",
    "m,_ = x.shape\n",
    "for i in range(m):\n",
    "    print(f\"{i}) prediction: {(np.dot(x[i], w_final)+b_final)*100000}, target value: {y[i]*100000}\")\n",
    "w_final = np.reshape(w_final,(1,2))"
   ]
  },
  {
   "cell_type": "code",
   "execution_count": 578,
   "id": "21f6f4bc-ddc6-40f3-ba81-9c9f52bb6b76",
   "metadata": {
    "execution": {
     "iopub.execute_input": "2023-07-15T10:22:53.357003Z",
     "iopub.status.busy": "2023-07-15T10:22:53.356712Z",
     "iopub.status.idle": "2023-07-15T10:22:53.544556Z",
     "shell.execute_reply": "2023-07-15T10:22:53.543741Z",
     "shell.execute_reply.started": "2023-07-15T10:22:53.356976Z"
    }
   },
   "outputs": [
    {
     "data": {
      "image/png": "[encoded data removed]",
      "text/plain": [
       "<Figure size 640x480 with 1 Axes>"
      ]
     },
     "metadata": {},
     "output_type": "display_data"
    }
   ],
   "source": [
    "plt.plot(J_hist)\n",
    "plt.title('cost Vs Iterations')\n",
    "plt.xlabel('Iteration steps')\n",
    "plt.ylabel('Cost')\n",
    "plt.show()"
   ]
  },
  {
   "cell_type": "code",
   "execution_count": 580,
   "id": "0d993f29-fa2d-4b51-a035-e3f1376de444",
   "metadata": {
    "execution": {
     "iopub.execute_input": "2023-07-15T10:23:28.129931Z",
     "iopub.status.busy": "2023-07-15T10:23:28.128251Z",
     "iopub.status.idle": "2023-07-15T10:23:28.140525Z",
     "shell.execute_reply": "2023-07-15T10:23:28.139130Z",
     "shell.execute_reply.started": "2023-07-15T10:23:28.129862Z"
    }
   },
   "outputs": [
    {
     "name": "stdout",
     "output_type": "stream",
     "text": [
      "w ;  [[0.88388636 0.44491446]] b :  0.21598304960612763\n",
      "Predicted Values : \n",
      " [[342810.10542318]\n",
      " [296582.84888208]]\n"
     ]
    }
   ],
   "source": [
    "def predict_price(x,w,b):\n",
    "    x[:, 0] /= 1000.0    \n",
    "    y = (x@w.T + b)*100000\n",
    "    return y\n",
    "    \n",
    "new_x = np.array([[2124,3],[1601,3]], dtype=np.float64)   # features to predict\n",
    "print('w ; ',w_final,'b : ',b_final)\n",
    "\n",
    "yhat = predict_price(new_x,w_final,b_final)\n",
    "print(\"Predicted Values : \\n\",yhat)"
   ]
  },
  {
   "cell_type": "code",
   "execution_count": null,
   "id": "2016d6a4-beee-4e8b-ae3f-501b416d9117",
   "metadata": {},
   "outputs": [],
   "source": []
  }
 ],
 "metadata": {
  "kernelspec": {
   "display_name": "Python 3 (ipykernel)",
   "language": "python",
   "name": "python3"
  },
  "language_info": {
   "codemirror_mode": {
    "name": "ipython",
    "version": 3
   },
   "file_extension": ".py",
   "mimetype": "text/x-python",
   "name": "python",
   "nbconvert_exporter": "python",
   "pygments_lexer": "ipython3",
   "version": "3.10.6"
  }
 },
 "nbformat": 4,
 "nbformat_minor": 5
}
